{
 "cells": [
  {
   "cell_type": "markdown",
   "id": "888d6b43",
   "metadata": {},
   "source": [
    "# Python_worksheet_1"
   ]
  },
  {
   "cell_type": "markdown",
   "id": "869046c2",
   "metadata": {},
   "source": [
    "### Answer 1 : C) ------------>  %"
   ]
  },
  {
   "cell_type": "code",
   "execution_count": 34,
   "id": "41e66aa6",
   "metadata": {},
   "outputs": [
    {
     "data": {
      "text/plain": [
       "1"
      ]
     },
     "execution_count": 34,
     "metadata": {},
     "output_type": "execute_result"
    }
   ],
   "source": [
    "# '%'   Operators is used to calculate remainder in a division\n",
    "\n",
    "10%3"
   ]
  },
  {
   "cell_type": "markdown",
   "id": "588b08c1",
   "metadata": {},
   "source": [
    "### Answer 2 : B)    ---------> 0"
   ]
  },
  {
   "cell_type": "code",
   "execution_count": 35,
   "id": "8a2dcfe8",
   "metadata": {},
   "outputs": [
    {
     "data": {
      "text/plain": [
       "0"
      ]
     },
     "execution_count": 35,
     "metadata": {},
     "output_type": "execute_result"
    }
   ],
   "source": [
    "#  0 '//' give the whole number and remove digit which are after decimal.\n",
    "# 2/3 is 0.6666 approx but when we use // it don't give float value so .6666 is being removed \n",
    "\n",
    "2//3"
   ]
  },
  {
   "cell_type": "markdown",
   "id": "9e9e47bb",
   "metadata": {},
   "source": [
    "### Answer 3:  C)   --------------> 24"
   ]
  },
  {
   "cell_type": "code",
   "execution_count": 36,
   "id": "5e7d195c",
   "metadata": {},
   "outputs": [
    {
     "data": {
      "text/plain": [
       "24"
      ]
     },
     "execution_count": 36,
     "metadata": {},
     "output_type": "execute_result"
    }
   ],
   "source": [
    "# Shifts the bits to left/ Bitwise Left Shift\n",
    "6<<2"
   ]
  },
  {
   "cell_type": "markdown",
   "id": "05b0b0f8",
   "metadata": {},
   "source": [
    "### Answer 4:   A)    ----------> 2"
   ]
  },
  {
   "cell_type": "code",
   "execution_count": 37,
   "id": "b9b13c47",
   "metadata": {},
   "outputs": [
    {
     "data": {
      "text/plain": [
       "2"
      ]
     },
     "execution_count": 37,
     "metadata": {},
     "output_type": "execute_result"
    }
   ],
   "source": [
    "# 6 ---> 110 (Binary value)\n",
    "# 2 ---> 10  (Binary value)\n",
    "# so apply & condition on it we get 10 which is 2\n",
    "6&2"
   ]
  },
  {
   "cell_type": "markdown",
   "id": "c49856dc",
   "metadata": {},
   "source": [
    "### Answer 5: D) ------------> 6"
   ]
  },
  {
   "cell_type": "code",
   "execution_count": 38,
   "id": "11c1699b",
   "metadata": {},
   "outputs": [
    {
     "data": {
      "text/plain": [
       "6"
      ]
     },
     "execution_count": 38,
     "metadata": {},
     "output_type": "execute_result"
    }
   ],
   "source": [
    "# 6 ---> 110 (Binary value)\n",
    "# 2 ---> 010  (Binary value)\n",
    "# So, apply | (or) condtion on it we get 110 which is 6\n",
    "\n",
    "6|2"
   ]
  },
  {
   "cell_type": "markdown",
   "id": "ac811486",
   "metadata": {},
   "source": [
    "### Answer 6 :  C)  ----> The finally block will be executed no matter if the try block raises an error or not."
   ]
  },
  {
   "cell_type": "code",
   "execution_count": 39,
   "id": "9831d83e",
   "metadata": {},
   "outputs": [
    {
     "name": "stdout",
     "output_type": "stream",
     "text": [
      "Nothing went wrong\n",
      "The try...except block is finished\n"
     ]
    }
   ],
   "source": [
    "x = 5\n",
    "try:\n",
    "  x > 3\n",
    "except:\n",
    "  print(\"Something went wrong\")\n",
    "else:\n",
    "  print(\"Nothing went wrong\")\n",
    "finally:\n",
    "  print(\"The try...except block is finished\")\n"
   ]
  },
  {
   "cell_type": "code",
   "execution_count": 40,
   "id": "a00805d9",
   "metadata": {},
   "outputs": [
    {
     "name": "stdout",
     "output_type": "stream",
     "text": [
      "Nothing went wrong\n",
      "The try...except block is finished\n"
     ]
    }
   ],
   "source": [
    "x = 1\n",
    "try:\n",
    "  x > 3\n",
    "except:\n",
    "  print(\"Something went wrong\")\n",
    "else:\n",
    "  print(\"Nothing went wrong\")\n",
    "finally:\n",
    "  print(\"The try...except block is finished\")\n",
    "\n",
    "\n",
    "# in both condition finally is executing no matter if the try block raises an error or not."
   ]
  },
  {
   "cell_type": "markdown",
   "id": "96497500",
   "metadata": {},
   "source": [
    "### Answer 7. A) --------> Raise keyword is used to raise an exception"
   ]
  },
  {
   "cell_type": "code",
   "execution_count": 41,
   "id": "1a28ce11",
   "metadata": {},
   "outputs": [
    {
     "ename": "Exception",
     "evalue": "Sorry, no numbers below zero",
     "output_type": "error",
     "traceback": [
      "\u001b[1;31m---------------------------------------------------------------------------\u001b[0m",
      "\u001b[1;31mException\u001b[0m                                 Traceback (most recent call last)",
      "\u001b[1;32mC:\\Users\\BHUSHA~1\\AppData\\Local\\Temp/ipykernel_10292/2793255811.py\u001b[0m in \u001b[0;36m<module>\u001b[1;34m\u001b[0m\n\u001b[0;32m      3\u001b[0m \u001b[0mx\u001b[0m \u001b[1;33m=\u001b[0m \u001b[1;36m10\u001b[0m\u001b[1;33m\u001b[0m\u001b[1;33m\u001b[0m\u001b[0m\n\u001b[0;32m      4\u001b[0m \u001b[1;32mif\u001b[0m \u001b[0mx\u001b[0m \u001b[1;33m>\u001b[0m \u001b[1;36m5\u001b[0m\u001b[1;33m:\u001b[0m\u001b[1;33m\u001b[0m\u001b[1;33m\u001b[0m\u001b[0m\n\u001b[1;32m----> 5\u001b[1;33m   \u001b[1;32mraise\u001b[0m \u001b[0mException\u001b[0m\u001b[1;33m(\u001b[0m\u001b[1;34m\"Sorry, no numbers below zero\"\u001b[0m\u001b[1;33m)\u001b[0m\u001b[1;33m\u001b[0m\u001b[1;33m\u001b[0m\u001b[0m\n\u001b[0m",
      "\u001b[1;31mException\u001b[0m: Sorry, no numbers below zero"
     ]
    }
   ],
   "source": [
    "# Raised keyword is used to raise an exception\n",
    "\n",
    "x = 10\n",
    "if x > 5:\n",
    "  raise Exception(\"Sorry, no numbers below zero\")"
   ]
  },
  {
   "cell_type": "markdown",
   "id": "98f766c1",
   "metadata": {},
   "source": [
    "#### Answer 8 C)  ------> Defining a generator is a common use case of yield keyword in python "
   ]
  },
  {
   "cell_type": "code",
   "execution_count": null,
   "id": "e28f3165",
   "metadata": {},
   "outputs": [],
   "source": [
    "# function will return a generator\n",
    "def simple_generator():\n",
    "    x = 'Bhushan'\n",
    "    yield x\n",
    "    yield x + ' '+ 'Sharma'\n",
    "\n",
    "object_of_generator = simple_generator()\n",
    "object_of_generator  # Only generator object will be return"
   ]
  },
  {
   "cell_type": "code",
   "execution_count": null,
   "id": "23c5b13c",
   "metadata": {},
   "outputs": [],
   "source": [
    "# for access this generator object\n",
    "for i in object_of_generator:\n",
    "    print(i)"
   ]
  },
  {
   "cell_type": "markdown",
   "id": "d5471383",
   "metadata": {},
   "source": [
    "### Answer 9: A) _abc, B) abc2  (Both are valid varaible name )"
   ]
  },
  {
   "cell_type": "code",
   "execution_count": null,
   "id": "7a24e7fc",
   "metadata": {},
   "outputs": [],
   "source": [
    "_abc = 10\n",
    "abc2 = 5\n",
    "print(_abc)\n",
    "print(abc2)"
   ]
  },
  {
   "cell_type": "markdown",
   "id": "c5bcdfb4",
   "metadata": {},
   "source": [
    "### Answer 10: A) yield, B) raise (both are keywords in python)"
   ]
  },
  {
   "cell_type": "code",
   "execution_count": null,
   "id": "df1ebc86",
   "metadata": {},
   "outputs": [],
   "source": [
    "# As shown in answer explination of  7 and 8"
   ]
  },
  {
   "cell_type": "markdown",
   "id": "26245ac9",
   "metadata": {},
   "source": [
    "###  Answer 11: Program to find the factorial of a number"
   ]
  },
  {
   "cell_type": "code",
   "execution_count": null,
   "id": "25e22f17",
   "metadata": {},
   "outputs": [],
   "source": [
    "#def factorial_func(n):\n",
    "#    fact = 1 \n",
    "#    if n < 0:\n",
    "#        print(\"Error: Factorial of Nagative Number doesn't exist\")\n",
    "        \n",
    "#    elif (n == 0 or n == 1):\n",
    "#        print('The Factorial of ' ,n , ' is 1' )\n",
    "        \n",
    "#    else :\n",
    "#        for i in range(1, n + 1):\n",
    "#            fact = fact *i\n",
    "        \n",
    "#        print('factorial of ', n, ' is ' , fact)\n",
    "\n",
    "# factorial_func(3)\n",
    "\n",
    "# ********************************************By Anonymous funcation *********************************\n",
    "n = int(input('Number: '))\n",
    "\n",
    "fac = lambda n: 1 if n ==0  else \"Error: Factorial of Nagative Number doesn't exist\" if n < 0 else  n * fac(n-1)\n",
    "\n",
    "print ('Factorial of ', n,': ', fac(n))\n"
   ]
  },
  {
   "cell_type": "code",
   "execution_count": null,
   "id": "3d952d22",
   "metadata": {},
   "outputs": [],
   "source": []
  },
  {
   "cell_type": "markdown",
   "id": "43888fd2",
   "metadata": {},
   "source": [
    "### Answer 12: Python program to find whether a number is prime or composite."
   ]
  },
  {
   "cell_type": "code",
   "execution_count": null,
   "id": "de13d9f5",
   "metadata": {},
   "outputs": [],
   "source": [
    "# prime : 2 factor\n",
    "# composite : more than 2 factor\n",
    "\n",
    "def prime_composite(n):\n",
    "    if n < 1:\n",
    "        print('Please enter a number greater than 1')\n",
    "    \n",
    "    elif n ==1:\n",
    "        print(n ,' is neithor prime nor composite ')\n",
    "            \n",
    "    else:\n",
    "        for i in range (2, (n//2)+1):\n",
    "            if n%i ==0 :\n",
    "                print(n, ' is composite number')\n",
    "                break\n",
    "        else:\n",
    "            print(n , ' is prime number')\n",
    "\n",
    "var = int(input('Enter a integer number to find prime or composite: '))\n",
    "\n",
    "prime_composite(var)"
   ]
  },
  {
   "cell_type": "code",
   "execution_count": null,
   "id": "3ce2561a",
   "metadata": {},
   "outputs": [],
   "source": []
  },
  {
   "cell_type": "markdown",
   "id": "64012934",
   "metadata": {},
   "source": [
    "### Answer 13:   python program to check whether a given string is palindrome or not."
   ]
  },
  {
   "cell_type": "code",
   "execution_count": 69,
   "id": "ddd8cc16",
   "metadata": {},
   "outputs": [
    {
     "name": "stdout",
     "output_type": "stream",
     "text": [
      "****To get your given string is pallindrome or not****\n",
      "Enter a string: madam\n",
      "madam  is palindrome\n"
     ]
    }
   ],
   "source": [
    "#def palindrone_func(str_val):\n",
    "#    b = str_val[::-1]    \n",
    "#    if str_val == b:\n",
    "#        print(str_val, \" string is palindrome\")\n",
    "        \n",
    "#    else:\n",
    "#        print(str_val, \"string is not pallindrone \")\n",
    "\n",
    "print('****To get your given string is pallindrome or not****')\n",
    "name = input('Enter a string: ')\n",
    "print(name,' is palindrome string') if name == name [::-1] else print(name , ' is not Pallindrone string')"
   ]
  },
  {
   "cell_type": "code",
   "execution_count": null,
   "id": "12d268ec",
   "metadata": {},
   "outputs": [],
   "source": []
  },
  {
   "cell_type": "markdown",
   "id": "b8544539",
   "metadata": {},
   "source": [
    "### Answer 14:  Python program to get the third side of right-angled triangle from two given sides"
   ]
  },
  {
   "cell_type": "code",
   "execution_count": 70,
   "id": "9368e7bc",
   "metadata": {},
   "outputs": [],
   "source": [
    "import numpy as np\n",
    "\n",
    "#def traingle_side(p, b , h):\n",
    "    \n",
    "#    if p == 'x':\n",
    "#        p = np.sqrt(h**2 - b**2)\n",
    "#        print(p)\n",
    "    \n",
    "#    elif b == 'x':\n",
    "#        b = np.sqrt(h**2 - p**2)\n",
    "#        print(b)\n",
    "#    elif h == 'x': \n",
    "#        h = np.sqrt(p**2 + b**2)\n",
    "#        print(h)\n",
    "#    else:\n",
    "#        print('******Thank You*******')\n",
    "\n",
    "factorial = lambda p, b, h : np.sqrt(h**2 - b**2) if p == 'x' else np.sqrt(h**2 - p**2) if b == 'x'  else  np.sqrt(p**2 + b**2) if h == 'x' else 'Thanks'\n",
    "   "
   ]
  },
  {
   "cell_type": "code",
   "execution_count": 76,
   "id": "46872afe",
   "metadata": {},
   "outputs": [
    {
     "name": "stdout",
     "output_type": "stream",
     "text": [
      "value of P is  4.0\n",
      "value of b is 3.0\n",
      "value of h is 5.0\n"
     ]
    }
   ],
   "source": [
    "print ('value of P is ',factorial ('x',3, 5))\n",
    "print('value of b is', factorial (4, 'x', 5))\n",
    "print('value of h is', factorial (4, 3, 'x'))\n",
    "\n",
    "# We can use this function by calling it "
   ]
  },
  {
   "cell_type": "code",
   "execution_count": null,
   "id": "c5d5e0ce",
   "metadata": {},
   "outputs": [],
   "source": []
  },
  {
   "cell_type": "markdown",
   "id": "95e01956",
   "metadata": {},
   "source": [
    "### Answer 15: python program to print the frequency of each of the characters present in a given string."
   ]
  },
  {
   "cell_type": "code",
   "execution_count": 77,
   "id": "8b2a9623",
   "metadata": {},
   "outputs": [
    {
     "name": "stdout",
     "output_type": "stream",
     "text": [
      "****Welcome, here you can get frequency of each char of your given string****\n",
      "Enter a string: bhawna\n",
      "{'b': 1, 'h': 1, 'a': 2, 'w': 1, 'n': 1}\n"
     ]
    }
   ],
   "source": [
    "#def frequency_fucn(str1):       \n",
    "#    record ={}\n",
    "#    for i in string:\n",
    "#        if i in record.keys() :\n",
    "#            record[i] = record[i] +1\n",
    "        \n",
    "#        else:\n",
    "#            record[i] = 1\n",
    "#    print('Count of all characters is: ', str(record))\n",
    "\n",
    "\n",
    "print('****Welcome, here you can get frequency of each char of your given string****')\n",
    "string = input ('Enter a string: ')\n",
    "record = {}\n",
    "\n",
    "frequency = { char : string.count(char) for char in string}\n",
    "print(frequency)"
   ]
  },
  {
   "cell_type": "code",
   "execution_count": null,
   "id": "2ac1cd47",
   "metadata": {},
   "outputs": [],
   "source": []
  }
 ],
 "metadata": {
  "kernelspec": {
   "display_name": "Python 3 (ipykernel)",
   "language": "python",
   "name": "python3"
  },
  "language_info": {
   "codemirror_mode": {
    "name": "ipython",
    "version": 3
   },
   "file_extension": ".py",
   "mimetype": "text/x-python",
   "name": "python",
   "nbconvert_exporter": "python",
   "pygments_lexer": "ipython3",
   "version": "3.9.6"
  }
 },
 "nbformat": 4,
 "nbformat_minor": 5
}
